{
 "cells": [
  {
   "cell_type": "code",
   "execution_count": 75,
   "metadata": {},
   "outputs": [],
   "source": [
    "import cv2\n",
    "import numpy as np\n",
    "\n",
    "# Load the left and right images in grayscale\n",
    "left_image = cv2.imread('cones/im2.png.', 0)  # Change 'left_image.jpg' to your left image path\n",
    "right_image = cv2.imread('cones/im6.png', 0)  # Change 'right_image.jpg' to your right image path\n",
    "\n",
    "# Initialize the stereo block matching object\n",
    "stereo = cv2.StereoSGBM_create(\n",
    "    minDisparity=0,\n",
    "    numDisparities = 64,  # Ensure it's a multiple of 16\n",
    "    blockSize=5,  # Decrease for more detail\n",
    "    P1=8 * 5**2,  # Consider lowering for less smoothness\n",
    "    P2=32 * 5**2,  # Consider lowering for less smoothness\n",
    "    disp12MaxDiff=10,  # Non-zero for left-right consistency check\n",
    "    uniquenessRatio=10,  # Increase for more reliable matches\n",
    "    speckleWindowSize=100,  # Increase to filter out noise\n",
    "    speckleRange=32,  # Increase to filter out noise\n",
    "    preFilterCap=63,\n",
    "    mode=cv2.STEREO_SGBM_MODE_SGBM_3WAY\n",
    ")\n",
    "\n",
    "\n",
    "# Compute the disparity map\n",
    "disparity_map = stereo.compute(left_image, right_image)\n",
    "\n",
    "# Normalize the disparity map for display\n",
    "disparity_display = cv2.normalize(disparity_map, None, alpha=0, beta=255, norm_type=cv2.NORM_MINMAX, dtype=cv2.CV_8U)\n",
    "\n",
    "# Display the disparity map\n",
    "cv2.imshow('Disparity Map', disparity_display)\n",
    "cv2.waitKey(0)\n",
    "cv2.destroyAllWindows()\n"
   ]
  }
 ],
 "metadata": {
  "kernelspec": {
   "display_name": "Python 3",
   "language": "python",
   "name": "python3"
  },
  "language_info": {
   "codemirror_mode": {
    "name": "ipython",
    "version": 3
   },
   "file_extension": ".py",
   "mimetype": "text/x-python",
   "name": "python",
   "nbconvert_exporter": "python",
   "pygments_lexer": "ipython3",
   "version": "3.10.2"
  }
 },
 "nbformat": 4,
 "nbformat_minor": 2
}
